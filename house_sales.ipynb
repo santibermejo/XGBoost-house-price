{
  "cells": [
    {
      "metadata": {
        "id": "K4K3_HYGkOqD",
        "colab_type": "text",
        "_uuid": "9876ba8edfa366304aca8927f181070db7a0cfb1"
      },
      "cell_type": "markdown",
      "source": "## Import libraries"
    },
    {
      "metadata": {
        "id": "WmYryNtrxWV0",
        "colab_type": "code",
        "colab": {},
        "trusted": true,
        "_uuid": "c00cf9ce46777f0f07f177ad0a437b20d67f3dc7"
      },
      "cell_type": "code",
      "source": "import pandas as pd\nimport matplotlib.pyplot as plt\nimport numpy as np\nimport seaborn as sns\n\nfrom matplotlib import pyplot\n\n%matplotlib inline\n\nfrom sklearn.linear_model import LinearRegression\nfrom sklearn.model_selection import GridSearchCV\nfrom sklearn.model_selection import cross_val_score\n\nfrom xgboost import XGBRegressor",
      "execution_count": null,
      "outputs": []
    },
    {
      "metadata": {
        "id": "StgJ1HTakXds",
        "colab_type": "text",
        "_uuid": "556955715564ba7ce753bc5420751b5b828f0276"
      },
      "cell_type": "markdown",
      "source": "## Import data"
    },
    {
      "metadata": {
        "id": "01fW0QZUyrtv",
        "colab_type": "code",
        "colab": {},
        "trusted": true,
        "_uuid": "0ec30140a070730c94cd2e4e8e3edee0d6036f78"
      },
      "cell_type": "code",
      "source": "train = pd.read_csv(\"../input/train.csv\")\ntest = pd.read_csv(\"../input/test.csv\")",
      "execution_count": null,
      "outputs": []
    },
    {
      "metadata": {
        "id": "31p55wvH39fW",
        "colab_type": "code",
        "colab": {
          "base_uri": "https://localhost:8080/",
          "height": 35
        },
        "outputId": "e181cf9c-c09d-4482-fcd6-fc0331666602",
        "trusted": true,
        "_uuid": "bfc15f9aca2fc8b01160efc55289ce802b4e47e3"
      },
      "cell_type": "code",
      "source": "train.shape",
      "execution_count": null,
      "outputs": []
    },
    {
      "metadata": {
        "id": "mPjQlQ7JzVnf",
        "colab_type": "code",
        "colab": {
          "base_uri": "https://localhost:8080/",
          "height": 331
        },
        "outputId": "245c61cb-8d39-4303-d343-5b3b5699ee2b",
        "trusted": true,
        "_uuid": "0d1b7f3f2bb6017292e3684c92e79f7321daf04f"
      },
      "cell_type": "code",
      "source": "train.describe()",
      "execution_count": null,
      "outputs": []
    },
    {
      "metadata": {
        "id": "DZVg7i0Y1wUL",
        "colab_type": "code",
        "colab": {},
        "trusted": true,
        "_uuid": "9b2d245a8a583e88e0d86f84496a3ab0dd5c534c"
      },
      "cell_type": "code",
      "source": "train.drop(['Id'], axis=1, inplace=True)",
      "execution_count": null,
      "outputs": []
    },
    {
      "metadata": {
        "id": "8KoQ_6-JkcGJ",
        "colab_type": "text",
        "_uuid": "b3ddac09aff0ed8601fcb93e7d9101521991b8ae"
      },
      "cell_type": "markdown",
      "source": "## Missing data"
    },
    {
      "metadata": {
        "id": "jD_Wnp0Bzq5f",
        "colab_type": "code",
        "colab": {},
        "trusted": true,
        "_uuid": "92fe79489dd16647f4962db3b157df221a8a6176"
      },
      "cell_type": "code",
      "source": "def show_missing_data(df):\n  df_nan = df.isnull().sum()[df.isnull().sum()>0].sort_values(ascending = False)\n  df_nan_per = df_nan / df.shape[0] * 100\n\n  print(pd.concat([df_nan, df_nan_per], \n                  axis=1, \n                  keys=['nan Amount', 'Percentage']))",
      "execution_count": null,
      "outputs": []
    },
    {
      "metadata": {
        "id": "kUv1-V8OrvIV",
        "colab_type": "code",
        "colab": {
          "base_uri": "https://localhost:8080/",
          "height": 657
        },
        "outputId": "ad6ea94c-ceb9-4b6d-d30c-b00909059809",
        "trusted": true,
        "_uuid": "8f48f86ef07dd192743208402733de6be87f83fb"
      },
      "cell_type": "code",
      "source": "train_tmp = train.drop(['SalePrice'], axis=1)\ntest_ids = test.Id\ntest = test.drop(['Id'], axis=1)\n\ntotal = pd.concat([train_tmp, test]).reset_index(drop=True)\n\nprint(show_missing_data(total))",
      "execution_count": null,
      "outputs": []
    },
    {
      "metadata": {
        "id": "ta8cIwygm62B",
        "colab_type": "code",
        "colab": {
          "base_uri": "https://localhost:8080/",
          "height": 423
        },
        "outputId": "3e8f8b30-8758-493c-cb35-5012ec9cea8c",
        "trusted": true,
        "_uuid": "b31b16b1907fd7ba4212925d9184a7f25fdc8e41"
      },
      "cell_type": "code",
      "source": "fig, axs = plt.subplots(1, 2, figsize=(15,5))\n\nsns.countplot(total[pd.notna(total.PoolQC)].PoolQC, ax=axs[0])\nsns.countplot(total.PoolArea, ax=axs[1])\n\nplt.suptitle(\"Pool Quality vs Pool's Area\")\naxs[0].set_xlabel(\"Quality\")\naxs[1].set_xlabel(\"Area\")",
      "execution_count": null,
      "outputs": []
    },
    {
      "metadata": {
        "id": "Dlidyfk4nT4r",
        "colab_type": "text",
        "_uuid": "8d3de6622f655905a2a2e816211d7d249bd6e4a1"
      },
      "cell_type": "markdown",
      "source": "By these graphs we can conclude that ''NA' values are not set. All the null values mean that basically the house has no pool. I'll proceed by filling all these values with 'NA' as the original description described."
    },
    {
      "metadata": {
        "id": "RIUm28pXnvIS",
        "colab_type": "code",
        "colab": {},
        "trusted": true,
        "_uuid": "2c5bff79ded7f5f47418bd9daa93166b3a772a03"
      },
      "cell_type": "code",
      "source": "total.PoolQC = total.PoolQC.fillna('NA')\ntrain.PoolQC = train.PoolQC.fillna('NA')\ntest.PoolQC = test.PoolQC.fillna('NA')",
      "execution_count": null,
      "outputs": []
    },
    {
      "metadata": {
        "id": "ylgD3lisoGvS",
        "colab_type": "code",
        "colab": {
          "base_uri": "https://localhost:8080/",
          "height": 297
        },
        "outputId": "7314be8e-bb40-4d9d-eb53-1387e9a8ef44",
        "trusted": true,
        "_uuid": "a122eaf9ff7681961d7ecc09e7271ebf66b33457"
      },
      "cell_type": "code",
      "source": "sns.countplot(total.PoolQC)",
      "execution_count": null,
      "outputs": []
    },
    {
      "metadata": {
        "id": "OynbXxqVpccd",
        "colab_type": "text",
        "_uuid": "69e7554fb40a2be77fa3fe54f65b83d0a49b75a1"
      },
      "cell_type": "markdown",
      "source": "This seems to be a constant, so I'll do the same with the rest of the columns that allow 'NA' values"
    },
    {
      "metadata": {
        "id": "cDA1kIowpCuO",
        "colab_type": "code",
        "colab": {},
        "trusted": true,
        "_uuid": "f249b1f1c015441acc9a0118618046f45b1bc1bb"
      },
      "cell_type": "code",
      "source": "def fillNAValues(na_list):\n  for elem in na_list:\n    total[elem] = total[elem].fillna('NA')\n    train[elem] = train[elem].fillna('NA')\n    test[elem] = test[elem].fillna('NA')",
      "execution_count": null,
      "outputs": []
    },
    {
      "metadata": {
        "id": "IPavg5lbp35l",
        "colab_type": "code",
        "colab": {},
        "trusted": true,
        "_uuid": "5053bef9429aa71d1215860e09c3db718f84d6e9"
      },
      "cell_type": "code",
      "source": "na_list = ['MiscFeature', 'Alley', 'Fence', 'GarageFinish', 'GarageQual', \n           'GarageCond', 'GarageType', 'BsmtQual', 'BsmtCond', \n           'BsmtExposure', 'BsmtFinType1', 'BsmtFinType2', 'FireplaceQu']",
      "execution_count": null,
      "outputs": []
    },
    {
      "metadata": {
        "id": "XScPODmg6plE",
        "colab_type": "code",
        "colab": {},
        "trusted": true,
        "_uuid": "52b66fa94703799957fea50440d613738cca3104"
      },
      "cell_type": "code",
      "source": "fillNAValues(na_list)",
      "execution_count": null,
      "outputs": []
    },
    {
      "metadata": {
        "id": "4X6UaIKbocmN",
        "colab_type": "text",
        "_uuid": "0e57aed3c3e9527b73139ff951aaba6022ae6efc"
      },
      "cell_type": "markdown",
      "source": "For the LotFrontage I'm going to analyze the LotArea"
    },
    {
      "metadata": {
        "id": "tf7IDFJLxbc4",
        "colab_type": "code",
        "colab": {
          "base_uri": "https://localhost:8080/",
          "height": 297
        },
        "outputId": "6a4087ad-c944-4022-97b5-c84bad1e3944",
        "trusted": true,
        "_uuid": "a2aa67bbce05903635d331040437c341eebbb0c6"
      },
      "cell_type": "code",
      "source": "total_lot = (total[(pd.notna(total.LotFrontage)) \n            & (total.LotFrontage < 200) \n            & (total.LotArea < 100000)]\n          [['LotFrontage','LotArea']])\n\ntotal_lot.plot.scatter(x='LotFrontage', y='LotArea')",
      "execution_count": null,
      "outputs": []
    },
    {
      "metadata": {
        "id": "pnemPT7D147M",
        "colab_type": "text",
        "_uuid": "1038ee323b13fbae43f934300683d1a33684b1aa"
      },
      "cell_type": "markdown",
      "source": "So it follows a linear correlation. I'll execute a linear regression to replace the null values"
    },
    {
      "metadata": {
        "id": "uLYb5zO313_e",
        "colab_type": "code",
        "colab": {},
        "trusted": true,
        "_uuid": "dbaa70b01db86be533e1a0f623729bbf39c48308"
      },
      "cell_type": "code",
      "source": "regressor = LinearRegression()\nregressor.fit(total_lot.LotArea.to_frame(), total_lot.LotFrontage)\n\nlot_nan_total = total[pd.isnull(total.LotFrontage)].LotArea\nlot_nan_train = train[pd.isnull(train.LotFrontage)].LotArea\nlot_nan_test = test[pd.isnull(test.LotFrontage)].LotArea\n\nlot_pred_total = regressor.predict(lot_nan_total.to_frame())\nlot_pred_train = regressor.predict(lot_nan_train.to_frame())\nlot_pred_test = regressor.predict(lot_nan_test.to_frame())\n\ntotal.loc[total.LotFrontage.isnull(), 'LotFrontage'] = lot_pred_total\ntrain.loc[train.LotFrontage.isnull(), 'LotFrontage'] = lot_pred_train\ntest.loc[test.LotFrontage.isnull(), 'LotFrontage'] = lot_pred_test",
      "execution_count": null,
      "outputs": []
    },
    {
      "metadata": {
        "id": "CLr6Zzxm5t8L",
        "colab_type": "code",
        "colab": {
          "base_uri": "https://localhost:8080/",
          "height": 297
        },
        "outputId": "dcd7c7c2-0497-400c-a4e2-b4187b46d5b7",
        "trusted": true,
        "_uuid": "723c7fb0ca2dde828c3fe92bf45d5075512835a5"
      },
      "cell_type": "code",
      "source": "total_lot = (total[(pd.notna(total.LotFrontage)) \n            & (total.LotFrontage < 200) \n            & (total.LotArea < 100000)]\n          [['LotFrontage','LotArea']])\n\ntotal_lot.plot.scatter(x='LotFrontage', y='LotArea')",
      "execution_count": null,
      "outputs": []
    },
    {
      "metadata": {
        "id": "ye_nFIM5XeQ3",
        "colab_type": "text",
        "_uuid": "0df675fbda6a2c4277f7e2bf36bc0f0281eba46a"
      },
      "cell_type": "markdown",
      "source": "With the GarageYrBlt, my first assumption is that it must be strongly correlated with the YearBuilt. So I'll use a scatterplot to check this out."
    },
    {
      "metadata": {
        "id": "hcRTmALKW0Ov",
        "colab_type": "code",
        "colab": {
          "base_uri": "https://localhost:8080/",
          "height": 297
        },
        "outputId": "4bbcde89-36c7-45d3-b2b8-61ec17bd492d",
        "trusted": true,
        "_uuid": "4fff1bbb1cea8502a8defed7096ee86afe6aad45"
      },
      "cell_type": "code",
      "source": "total.plot.scatter(x='YearBuilt', y='GarageYrBlt')",
      "execution_count": null,
      "outputs": []
    },
    {
      "metadata": {
        "id": "WL0vwNk7CdBf",
        "colab_type": "code",
        "colab": {
          "base_uri": "https://localhost:8080/",
          "height": 35
        },
        "outputId": "dca28ffd-a5dd-4024-a5d4-2569a5296638",
        "trusted": true,
        "_uuid": "ca62b1df1ed09fa865f5e1ff2c92a4ab0e686fbe"
      },
      "cell_type": "code",
      "source": "total.YearBuilt.corr(total.GarageYrBlt)",
      "execution_count": null,
      "outputs": []
    },
    {
      "metadata": {
        "id": "TvCwezUwavz8",
        "colab_type": "text",
        "_uuid": "fde3723a818a43242bd69c358f2af46a843149d2"
      },
      "cell_type": "markdown",
      "source": "It seems reasonable that in almost every sample the garage is either built the same year as the house or some years after. But just to dig a little bit further, I'll check the percentage of times that they are built on the same year. If the pecentage is high enough, I'll proceed by replacing the null values for the YearBuilt values."
    },
    {
      "metadata": {
        "id": "0CXAtLCWaI0A",
        "colab_type": "code",
        "colab": {
          "base_uri": "https://localhost:8080/",
          "height": 35
        },
        "outputId": "182e449a-c3b8-41d6-a04b-e10305aab34c",
        "trusted": true,
        "_uuid": "07ebd816a79b125e29edc4f5f14bc49b495de480"
      },
      "cell_type": "code",
      "source": "total[total.YearBuilt==total.GarageYrBlt].count().YearBuilt.astype('float')/total.shape[0]",
      "execution_count": null,
      "outputs": []
    },
    {
      "metadata": {
        "id": "TTBrc5cHCgFQ",
        "colab_type": "code",
        "colab": {},
        "trusted": true,
        "_uuid": "3437e4d3a3f4c951c6cab987e5b2f5d65227498b"
      },
      "cell_type": "code",
      "source": "total.GarageYrBlt = total.GarageYrBlt.fillna(total.YearBuilt)\ntrain.GarageYrBlt = train.GarageYrBlt.fillna(train.YearBuilt)\ntest.GarageYrBlt = test.GarageYrBlt.fillna(test.YearBuilt)",
      "execution_count": null,
      "outputs": []
    },
    {
      "metadata": {
        "id": "JMBuWqIo27rL",
        "colab_type": "text",
        "_uuid": "4e10306c1c6d8a71a0c5f743b6017bcf793adb92"
      },
      "cell_type": "markdown",
      "source": "And that GarageYrBlt is clearly an outlyer. So let's apply the same logic to it."
    },
    {
      "metadata": {
        "id": "qJVX0Pcb3VFz",
        "colab_type": "code",
        "colab": {},
        "trusted": true,
        "_uuid": "07312d4a1b264a7dfa32644fc794362cb23285f7"
      },
      "cell_type": "code",
      "source": "total.loc[total.GarageYrBlt>2100, 'GarageYrBlt'] = total.YearBuilt\ntrain.loc[train.GarageYrBlt>2100, 'GarageYrBlt'] = train.YearBuilt\ntest.loc[test.GarageYrBlt>2100, 'GarageYrBlt'] = test.YearBuilt",
      "execution_count": null,
      "outputs": []
    },
    {
      "metadata": {
        "id": "HRtLBZ9YMIba",
        "colab_type": "code",
        "colab": {},
        "trusted": true,
        "_uuid": "c972c810ca54a813d39dbed389b05129993c653f"
      },
      "cell_type": "code",
      "source": "def replace_with_mode(dfs, cols):\n  for df in dfs:\n    for col in cols:\n      df[col] = df[col].fillna(df[col].mode()[0])",
      "execution_count": null,
      "outputs": []
    },
    {
      "metadata": {
        "id": "X5Xiww26mnZ5",
        "colab_type": "code",
        "colab": {},
        "trusted": true,
        "_uuid": "316047207ea88e4e603943bb4d41ee71adc6b0bf"
      },
      "cell_type": "code",
      "source": "dfs = [total, train, test]\nna_values = ['Electrical', 'Functional', 'Utilities', \n                'Exterior2nd', 'Exterior1st', 'KitchenQual',\n                'SaleType', 'MSZoning', 'MasVnrType', 'BsmtHalfBath',\n                'BsmtFullBath', 'TotalBsmtSF', 'BsmtUnfSF', \n                'BsmtFinSF2', 'BsmtFinSF1']\n\nreplace_with_mode(dfs, na_values)",
      "execution_count": null,
      "outputs": []
    },
    {
      "metadata": {
        "id": "63PnluQ2DPIH",
        "colab_type": "text",
        "_uuid": "9314ea56710b47bf98e3bf4e158fa992888a233f"
      },
      "cell_type": "markdown",
      "source": "Now it is time to deal with MasVnrArea. This value is the masonry veneer."
    },
    {
      "metadata": {
        "id": "MZ6b6de_pW9g",
        "colab_type": "code",
        "colab": {
          "base_uri": "https://localhost:8080/",
          "height": 722
        },
        "outputId": "460c632b-f55b-406d-c078-b360b51ec185",
        "trusted": true,
        "_uuid": "0bebbee97d6b3a35f22b75a0958ac4c0f2b30b90"
      },
      "cell_type": "code",
      "source": "total.loc[total.MasVnrArea.isnull(),['MasVnrArea','MasVnrType']]",
      "execution_count": null,
      "outputs": []
    },
    {
      "metadata": {
        "id": "uFNoNgS3qK5v",
        "colab_type": "text",
        "_uuid": "7af8d1b2db5bafa939e5f658b58de2b5c88a4a9e"
      },
      "cell_type": "markdown",
      "source": "This means that null values were the once I've just replaced for the mode (None). So I'll turn them into 0"
    },
    {
      "metadata": {
        "id": "dGktgSYOElgR",
        "colab_type": "code",
        "colab": {},
        "trusted": true,
        "_uuid": "f71e555a3a22e1a37e016875be925f3d4b8b3a73"
      },
      "cell_type": "code",
      "source": "total.MasVnrArea = total.MasVnrArea.fillna(0)\ntrain.MasVnrArea = train.MasVnrArea.fillna(0)\ntest.MasVnrArea = test.MasVnrArea.fillna(0)",
      "execution_count": null,
      "outputs": []
    },
    {
      "metadata": {
        "id": "9D9H8WRbtEUY",
        "colab_type": "code",
        "colab": {
          "base_uri": "https://localhost:8080/",
          "height": 195
        },
        "outputId": "d51a81ba-c1b6-40f6-a2e8-560dab3eeef0",
        "trusted": true,
        "_uuid": "bc754a20d1de8ced49b8f1119c435f33eb728784"
      },
      "cell_type": "code",
      "source": "print(show_missing_data(total))",
      "execution_count": null,
      "outputs": []
    },
    {
      "metadata": {
        "id": "SdoLkNfts0q1",
        "colab_type": "text",
        "_uuid": "752c39489fb2c119e8dc01d61c0d30939cb7d523"
      },
      "cell_type": "markdown",
      "source": "I'll look if there's some kind of relation between the following columns"
    },
    {
      "metadata": {
        "id": "vQLRUYBirVsp",
        "colab_type": "code",
        "colab": {
          "base_uri": "https://localhost:8080/",
          "height": 106
        },
        "outputId": "44b0aad7-98cc-4fcc-919a-8d5324ce8e76",
        "trusted": true,
        "_uuid": "b9c97c2be0a1dccf69cce0e7dab933d016ba3c27"
      },
      "cell_type": "code",
      "source": "total.loc[total.BsmtHalfBath.isnull(),['BsmtHalfBath', 'BsmtFullBath', 'GarageArea',\n                                      'GarageCars', 'KitchenQual', 'TotalBsmtSF',\n                                      'BsmtUnfSF', 'BsmtFinSF2', 'BsmtFinSF1',\n                                      'Exterior2nd', 'Exterior1st']]",
      "execution_count": null,
      "outputs": []
    },
    {
      "metadata": {
        "id": "iAjTttE8P8PQ",
        "colab_type": "code",
        "colab": {
          "base_uri": "https://localhost:8080/",
          "height": 124
        },
        "outputId": "730f2cc4-a667-4ee2-d586-cbb02ca3da90",
        "trusted": true,
        "_uuid": "95766230d412dfac7cfcfa5d3d6452fed8894855"
      },
      "cell_type": "code",
      "source": "print(show_missing_data(total))",
      "execution_count": null,
      "outputs": []
    },
    {
      "metadata": {
        "id": "Zd2U5tYZwEcQ",
        "colab_type": "text",
        "_uuid": "4340bff573be4e243c26148f74405c5fd3df41d6"
      },
      "cell_type": "markdown",
      "source": "Let's see what's the issue with the garage null values"
    },
    {
      "metadata": {
        "id": "vkPrjES4u9KU",
        "colab_type": "code",
        "colab": {
          "base_uri": "https://localhost:8080/",
          "height": 76
        },
        "outputId": "b129f2f5-3229-4653-c3dc-c7743d3cb781",
        "trusted": true,
        "_uuid": "3f4be38be7ccb04d7313f1b632a665259f6b106f"
      },
      "cell_type": "code",
      "source": "total.loc[total.GarageArea.isnull(),['GarageFinish', 'GarageCars', 'GarageArea']]",
      "execution_count": null,
      "outputs": []
    },
    {
      "metadata": {
        "id": "rVRw-lwev3XD",
        "colab_type": "text",
        "_uuid": "877ad283dab49568349de0651245cf1a96bcb866"
      },
      "cell_type": "markdown",
      "source": "This means there's no garage. So the rest of the values should be 0"
    },
    {
      "metadata": {
        "id": "feRP0Gtkv_J0",
        "colab_type": "code",
        "colab": {},
        "trusted": true,
        "_uuid": "8ba53408c1555b1bdc5e93552121bef871d17a03"
      },
      "cell_type": "code",
      "source": "total.GarageCars = total.GarageCars.fillna(0)\ntotal.GarageArea = total.GarageArea.fillna(0)\n\ntrain.GarageCars = train.GarageCars.fillna(0)\ntrain.GarageArea = train.GarageArea.fillna(0)\n\ntest.GarageCars = test.GarageCars.fillna(0)\ntest.GarageArea = test.GarageArea.fillna(0)",
      "execution_count": null,
      "outputs": []
    },
    {
      "metadata": {
        "id": "zGXZcfowzJWo",
        "colab_type": "text",
        "_uuid": "72eadcbbe48b1cbbdd6c87f8948d860b5f08c5a1"
      },
      "cell_type": "markdown",
      "source": "Finally, we take care of BsmtHalfBath and BsmtFullBath "
    },
    {
      "metadata": {
        "id": "fFNFGdwZw2nv",
        "colab_type": "code",
        "colab": {
          "base_uri": "https://localhost:8080/",
          "height": 106
        },
        "outputId": "c4c87188-dd37-4b51-9a0b-ee9e31150618",
        "trusted": true,
        "_uuid": "fc57b95cecfa11f8496abfcb76ad1e28d889fa89"
      },
      "cell_type": "code",
      "source": "total.groupby('BsmtHalfBath').BsmtHalfBath.count()",
      "execution_count": null,
      "outputs": []
    },
    {
      "metadata": {
        "id": "SEQdd6RnzHdl",
        "colab_type": "code",
        "colab": {},
        "trusted": true,
        "_uuid": "3ffdfa57245e07dca03684d071aa5e74fcb58011"
      },
      "cell_type": "code",
      "source": "total.BsmtHalfBath = total.BsmtHalfBath.fillna(0)\ntotal.BsmtFullBath = total.BsmtFullBath.fillna(0)\n\ntrain.BsmtHalfBath = train.BsmtHalfBath.fillna(0)\ntrain.BsmtFullBath = train.BsmtFullBath.fillna(0)\n\ntest.BsmtHalfBath = test.BsmtHalfBath.fillna(0)\ntest.BsmtFullBath = test.BsmtFullBath.fillna(0)",
      "execution_count": null,
      "outputs": []
    },
    {
      "metadata": {
        "id": "HABMCVLazscY",
        "colab_type": "code",
        "colab": {
          "base_uri": "https://localhost:8080/",
          "height": 177
        },
        "outputId": "0150a230-dac3-4f5d-ebdd-1580c69fd7fe",
        "trusted": true,
        "_uuid": "1a270f294a61e8d173bda0d00faa3d595fdbb602"
      },
      "cell_type": "code",
      "source": "show_missing_data(total)\nshow_missing_data(train)\nshow_missing_data(test)",
      "execution_count": null,
      "outputs": []
    },
    {
      "metadata": {
        "id": "IAiNfB6lz6jo",
        "colab_type": "text",
        "_uuid": "b833eca9ce9b288cbee9a9c5d975a3d00c5438ac"
      },
      "cell_type": "markdown",
      "source": "We are done with missing values!"
    },
    {
      "metadata": {
        "id": "oLhJ2z_4jt0Q",
        "colab_type": "text",
        "_uuid": "89fd7bd546655998714927bea9e67b3981c76489"
      },
      "cell_type": "markdown",
      "source": "## Data conversion"
    },
    {
      "metadata": {
        "id": "fy6trwxnj_zq",
        "colab_type": "code",
        "colab": {},
        "trusted": true,
        "_uuid": "d1dd8dde5108e9774900acc523a4c50648f70275"
      },
      "cell_type": "code",
      "source": "train.SalePrice = np.log(train.SalePrice)",
      "execution_count": null,
      "outputs": []
    },
    {
      "metadata": {
        "id": "XQuhjw1ToFqB",
        "colab_type": "code",
        "colab": {
          "base_uri": "https://localhost:8080/",
          "height": 52
        },
        "outputId": "17977eb9-41dd-4c2f-8728-90dbaa1cbf5e",
        "trusted": true,
        "_uuid": "a6f6507202a8edb51be3254bce14eb1f84ca7ac0"
      },
      "cell_type": "code",
      "source": "final_total = pd.get_dummies(total).reset_index(drop=True)\n\nfinal_total.shape\n\ny = train.SalePrice\nX = final_total.iloc[:len(y),:]\n\ntest = final_total.iloc[len(y):,:]\n\nprint(X.shape)\nprint(test.shape)",
      "execution_count": null,
      "outputs": []
    },
    {
      "metadata": {
        "id": "J7aNQyeQZWT5",
        "colab_type": "code",
        "colab": {
          "base_uri": "https://localhost:8080/",
          "height": 388
        },
        "outputId": "994e4f9d-cdc9-4f9d-f8f1-e9d7b3fc1b62",
        "trusted": true,
        "_uuid": "3f8537f465e00931302cac3dd26848c099cf6a5b"
      },
      "cell_type": "code",
      "source": "fig , ax = plt.subplots(figsize = (10, 5))\n\nsns.boxplot(X.OverallQual, y)",
      "execution_count": null,
      "outputs": []
    },
    {
      "metadata": {
        "id": "7C6bqiU3U_ef",
        "colab_type": "text",
        "_uuid": "843a07f35e5a406f41cea42b07d3c2ce9a867249"
      },
      "cell_type": "markdown",
      "source": "## Scikit-learn Linear Regression"
    },
    {
      "metadata": {
        "id": "UQd_nxVjbwTH",
        "colab_type": "code",
        "colab": {
          "base_uri": "https://localhost:8080/",
          "height": 35
        },
        "outputId": "c828202f-dcd0-4c6e-9862-5ad05ad18b75",
        "trusted": true,
        "_uuid": "eb3455964a0f69e54e655d13f97ebc1e657b5238"
      },
      "cell_type": "code",
      "source": "model_reg = LinearRegression()\nmodel_reg.fit(X,y)\n\naccuracies = cross_val_score(estimator=model_reg, X=X, y=y, cv=10)\nprint(accuracies.mean())",
      "execution_count": null,
      "outputs": []
    },
    {
      "metadata": {
        "id": "a-1naua-VM3R",
        "colab_type": "text",
        "_uuid": "f8c4cc252138f71479d89c7e0184fe81aa9f2b03"
      },
      "cell_type": "markdown",
      "source": "## XGBoost Regression"
    },
    {
      "metadata": {
        "id": "lUn2qhEeLfxD",
        "colab_type": "code",
        "colab": {},
        "trusted": true,
        "_uuid": "094c7ff635a0a5f168003b43a9c4a48e9400212c"
      },
      "cell_type": "code",
      "source": "def print_cv_params(selecter_param, selecter_param_str, parameters):\n  \n  grid_search = GridSearchCV(estimator = model_xgb,\n                            param_grid = parameters,\n                            scoring = 'neg_mean_squared_error',\n                            cv = 10,\n                            n_jobs = -1)\n\n  grid_result = grid_search.fit(X, y)\n\n  print(\"Best: %f using %s\" % (grid_result.best_score_, grid_result.best_params_))\n  means = grid_result.cv_results_['mean_test_score']\n  stds = grid_result.cv_results_['std_test_score']\n  params = grid_result.cv_results_['params']\n  for mean, stdev, param in zip(means, stds, params):\n    print(\"%f (%f) with: %r\" % (mean, stdev, param))\n\n  pyplot.errorbar(selecter_param, means, yerr=stds)\n  pyplot.title(\"XGBoost \"+ selecter_param_str + \" vs Mean Squared Error\")\n  pyplot.xlabel(selecter_param_str)\n  pyplot.ylabel('Mean Squared Error')",
      "execution_count": null,
      "outputs": []
    },
    {
      "metadata": {
        "id": "maiK_PNkT978",
        "colab_type": "code",
        "colab": {},
        "trusted": true,
        "_uuid": "47db32d3a093a171247085e033d0a8cf82b3da50"
      },
      "cell_type": "code",
      "source": "model_xgb = XGBRegressor()",
      "execution_count": null,
      "outputs": []
    },
    {
      "metadata": {
        "id": "5BgGcuIj6mTG",
        "colab_type": "code",
        "colab": {
          "base_uri": "https://localhost:8080/",
          "height": 401
        },
        "outputId": "6c975aed-582a-4a76-c5f9-c6f78f847e6a",
        "trusted": true,
        "_uuid": "d2579d9054633e13697631a6df5983230278307c"
      },
      "cell_type": "code",
      "source": "n_estimators = range(50, 800, 150)\nparameters = dict(n_estimators=n_estimators)\n\nprint_cv_params(n_estimators, 'n_estimators', parameters)",
      "execution_count": null,
      "outputs": []
    },
    {
      "metadata": {
        "id": "c5db4WifJwxl",
        "colab_type": "code",
        "colab": {
          "base_uri": "https://localhost:8080/",
          "height": 436
        },
        "outputId": "51a23ef2-304f-4a41-f6b3-e80a72a1e101",
        "trusted": true,
        "_uuid": "a0975ca18deb42457d52fcbe49dbc9de2f8334bc"
      },
      "cell_type": "code",
      "source": "learning_rate = np.arange(0.0, 0.2, 0.03)\nparameters = dict(learning_rate=learning_rate)\n\nprint_cv_params(learning_rate, 'learning_rate', parameters)",
      "execution_count": null,
      "outputs": []
    },
    {
      "metadata": {
        "id": "-xW6bYQKOUz8",
        "colab_type": "code",
        "colab": {
          "base_uri": "https://localhost:8080/",
          "height": 436
        },
        "outputId": "e9d3b3ca-7b71-4cbe-a8bd-09e6628dd321",
        "trusted": true,
        "_uuid": "28b10f81f680612d012459e746f601d055d9ee87"
      },
      "cell_type": "code",
      "source": "max_depth = range(0, 7)\nparameters = dict(max_depth=max_depth)\n\nprint_cv_params(max_depth, 'max_depth', parameters)",
      "execution_count": null,
      "outputs": []
    },
    {
      "metadata": {
        "id": "hAskQqCVO6ER",
        "colab_type": "code",
        "colab": {
          "base_uri": "https://localhost:8080/",
          "height": 401
        },
        "outputId": "550edba9-577c-4699-b189-bea537aa09e3",
        "trusted": true,
        "_uuid": "b6ecc0245816e329d27d40acd94ea687ad9943f3"
      },
      "cell_type": "code",
      "source": "min_child_weight = np.arange(0.5, 2., 0.3)\nparameters = dict(min_child_weight=min_child_weight)\n\nprint_cv_params(min_child_weight, 'min_child_weight', parameters)",
      "execution_count": null,
      "outputs": []
    },
    {
      "metadata": {
        "id": "2yiBEGUxPdi5",
        "colab_type": "code",
        "colab": {
          "base_uri": "https://localhost:8080/",
          "height": 383
        },
        "outputId": "12f7cd80-eebf-44d4-f4e5-dd82ca70c023",
        "trusted": true,
        "_uuid": "66922a006538c7e5ef9a4b3bef40ad7c568ba7aa"
      },
      "cell_type": "code",
      "source": "gamma = np.arange(.001, .01, .003)\nparameters = dict(gamma=gamma)\n\nprint_cv_params(gamma, 'gamma', parameters)",
      "execution_count": null,
      "outputs": []
    },
    {
      "metadata": {
        "id": "zTLUTllIP86r",
        "colab_type": "code",
        "colab": {
          "base_uri": "https://localhost:8080/",
          "height": 383
        },
        "outputId": "b210ceac-f36a-48d6-dbaa-de027abc73df",
        "trusted": true,
        "_uuid": "95161c77a371291389024a1a202e5896a4537357"
      },
      "cell_type": "code",
      "source": "subsample = np.arange(0.3, 1., 0.2)\nparameters = dict(subsample=subsample)\n\nprint_cv_params(subsample, 'subsample', parameters)",
      "execution_count": null,
      "outputs": []
    },
    {
      "metadata": {
        "id": "VZ4mFxlxQVc0",
        "colab_type": "code",
        "colab": {
          "base_uri": "https://localhost:8080/",
          "height": 383
        },
        "outputId": "d8a5dff5-0819-40e3-a364-045d783e38eb",
        "trusted": true,
        "_uuid": "58635b8fb5aa85e93f2d2a7704a5accba66b15c3"
      },
      "cell_type": "code",
      "source": "colsample_bytree = np.arange(.6, 1, .1)\nparameters = dict(colsample_bytree=colsample_bytree)\n\nprint_cv_params(colsample_bytree, 'colsample_bytree', parameters)",
      "execution_count": null,
      "outputs": []
    },
    {
      "metadata": {
        "id": "Su6rckp7SELK",
        "colab_type": "code",
        "colab": {
          "base_uri": "https://localhost:8080/",
          "height": 124
        },
        "outputId": "8fc4a0b2-2855-4190-a6ff-d52143fb624b",
        "trusted": true,
        "_uuid": "bc7d08280d3bab11e3209a64d903beae56264434"
      },
      "cell_type": "code",
      "source": "model_xgb = XGBRegressor(colsample_bytree=0.6,\n                          subsample=0.9,\n                          gamma=0.004,\n                          min_child_weight=1.1,\n                          max_depth=3,\n                          learning_rate=0.15,\n                          n_estimators=650,                                                                    \n                          reg_alpha=0.75,\n                          reg_lambda=0.45,\n                          seed=42)\n\nmodel_xgb.fit(X,y)",
      "execution_count": null,
      "outputs": []
    },
    {
      "metadata": {
        "id": "lqcAPLuHTIBt",
        "colab_type": "code",
        "colab": {
          "base_uri": "https://localhost:8080/",
          "height": 35
        },
        "outputId": "f57b5d59-3adb-4b97-b065-dc17a8a1f0f8",
        "trusted": true,
        "_uuid": "078eee8bd0c00953e1175430c34076dbd2aab352"
      },
      "cell_type": "code",
      "source": "accuracies = cross_val_score(estimator=model_xgb, X=X, y=y, cv=10)\naccuracies.mean()",
      "execution_count": null,
      "outputs": []
    },
    {
      "metadata": {
        "id": "jq4ud-D2UJym",
        "colab_type": "code",
        "colab": {
          "base_uri": "https://localhost:8080/",
          "height": 52
        },
        "outputId": "5d7b1326-f0d4-4b12-bffc-7ed2ec7b3691",
        "trusted": true,
        "_uuid": "5759fcd4be2acdd5a80d4fb7a10bd1e174220b10"
      },
      "cell_type": "code",
      "source": "y_pred = model_xgb.predict(test)\ny_pred = np.floor(np.expm1(y_pred))",
      "execution_count": null,
      "outputs": []
    },
    {
      "metadata": {
        "trusted": true,
        "_uuid": "946f3d97920f09115335e5bec2dc6f79023e985d"
      },
      "cell_type": "code",
      "source": "submission = pd.concat([test_ids, pd.Series(y_pred)], \n                        axis=1,\n                        keys=['Id','SalePrice'])",
      "execution_count": null,
      "outputs": []
    },
    {
      "metadata": {
        "trusted": true,
        "_uuid": "a215105ef0574121f4447d732c5d34b1b33a01ee"
      },
      "cell_type": "code",
      "source": "submission.to_csv('sample_submission.csv', index = False)",
      "execution_count": null,
      "outputs": []
    }
  ],
  "metadata": {
    "colab": {
      "name": "house-sales.ipynb",
      "version": "0.3.2",
      "provenance": [],
      "collapsed_sections": [],
      "toc_visible": true
    },
    "kernelspec": {
      "display_name": "Python 3",
      "language": "python",
      "name": "python3"
    },
    "language_info": {
      "name": "python",
      "version": "3.6.6",
      "mimetype": "text/x-python",
      "codemirror_mode": {
        "name": "ipython",
        "version": 3
      },
      "pygments_lexer": "ipython3",
      "nbconvert_exporter": "python",
      "file_extension": ".py"
    }
  },
  "nbformat": 4,
  "nbformat_minor": 1
}